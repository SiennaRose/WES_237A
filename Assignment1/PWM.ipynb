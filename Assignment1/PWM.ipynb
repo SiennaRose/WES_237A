{
 "cells": [
  {
   "cell_type": "code",
   "execution_count": 137,
   "metadata": {},
   "outputs": [],
   "source": [
    "from pynq.overlays.base import BaseOverlay\n",
    "base = BaseOverlay(\"base.bit\")"
   ]
  },
  {
   "cell_type": "markdown",
   "metadata": {},
   "source": [
    "## GPIO Library Functions"
   ]
  },
  {
   "cell_type": "code",
   "execution_count": 138,
   "metadata": {},
   "outputs": [],
   "source": [
    "%%microblaze base.PMODA\n",
    "\n",
    "#include \"gpio.h\"\n",
    "#include \"pyprintf.h\"\n",
    "#define GPIO0 0\n",
    "#define GPIO1 1\n",
    "#define GPIO2 2\n",
    "\n",
    "//Function to turn on/off a selected pin of PMODA\n",
    "void write_gpio(unsigned int pin, unsigned int val){\n",
    "    if (val > 1){\n",
    "        pyprintf(\"pin value must be 0 or 1\");\n",
    "    }\n",
    "    gpio pin_out = gpio_open(pin);\n",
    "    gpio_set_direction(pin_out, GPIO_OUT);\n",
    "    gpio_write(pin_out, val);\n",
    "}\n",
    "\n",
    "//Function to read the value of a selected pin of PMODA\n",
    "unsigned int read_gpio(unsigned int pin){\n",
    "    gpio pin_in = gpio_open(pin);\n",
    "    gpio_set_direction(pin_in, GPIO_IN);\n",
    "    int a = gpio_read(pin_in);\n",
    "    pyprintf(\"pin %d --- val is %d\\n\", pin, a);\n",
    "    return a;\n",
    "}\n",
    "\n",
    "void reset_all_gpios()\n",
    "{\n",
    "    pyprintf(\"reset PMOD \\n\");\n",
    "    for(int pin=0; pin < 6; pin++) \n",
    "    {\n",
    "        write_gpio(pin, 0);\n",
    "    }\n",
    "}\n",
    "\n",
    "void write_led(unsigned int val){\n",
    "    if (val > 9){\n",
    "        pyprintf(\"pin value must be between 0 to 9\\n\");\n",
    "    }\n",
    "    \n",
    "    write_gpio(GPIO0, val & 0x1);\n",
    "    //pyprintf(\"val %d --- pin val is %d\\n\", val, val & 0x01);\n",
    "    \n",
    "    write_gpio(GPIO1, (val & 2) >> 1);\n",
    "    //pyprintf(\"pin2 value %d\\n\", (val & 2) >> 1);\n",
    "    \n",
    "    write_gpio(GPIO2, (val & 4) >> 2);\n",
    "    //pyprintf(\"pin3 value %d\\n\", (val & 4) >> 2);\n",
    "\n",
    "}"
   ]
  },
  {
   "cell_type": "code",
   "execution_count": 139,
   "metadata": {},
   "outputs": [],
   "source": [
    "#Reset all gpios\n",
    "reset_all_gpios()"
   ]
  },
  {
   "cell_type": "markdown",
   "metadata": {},
   "source": [
    "## Python3 cell that emulates a PWM"
   ]
  },
  {
   "cell_type": "code",
   "execution_count": 135,
   "metadata": {},
   "outputs": [],
   "source": [
    "import time\n",
    "\n",
    "def emulatePwm(frequency, dutycycle, color):\n",
    "    period = 1 / frequency\n",
    "    newDutyCycle = dutycycle / 100\n",
    "    delay = period * newDutyCycle\n",
    "    \n",
    "    count = frequency\n",
    "    \n",
    "    if dutycycle == 100:\n",
    "        write_led(color)\n",
    "        time.sleep(period);\n",
    "    \n",
    "    elif dutycycle == 0:\n",
    "        write_led(0)\n",
    "        time.sleep(period);\n",
    "    \n",
    "    else:\n",
    "        while count:\n",
    "            write_led(color)\n",
    "            time.sleep(delay);\n",
    "            \n",
    "            write_led(0)\n",
    "            time.sleep(period - delay);\n",
    "    \n",
    "            count -= 1"
   ]
  },
  {
   "cell_type": "markdown",
   "metadata": {},
   "source": [
    "## Achieve the visually perceived 100%, 75%, 50% and 25% of full LED brightness by adjusting the duty cycle"
   ]
  },
  {
   "cell_type": "code",
   "execution_count": 27,
   "metadata": {},
   "outputs": [],
   "source": [
    "#Set -ve pin to ground (0)\n",
    "reset_all_gpios()\n",
    "\n",
    "emulatePwm(50, 100, 4)\n",
    "emulatePwm(50, 75, 4)\n",
    "emulatePwm(50, 50, 4)\n",
    "emulatePwm(50, 25, 4)\n",
    "emulatePwm(50, 0, 4)\n"
   ]
  },
  {
   "cell_type": "markdown",
   "metadata": {},
   "source": [
    "# Approx. relationship of perceived LED brightness % versus duty cycle %"
   ]
  },
  {
   "cell_type": "code",
   "execution_count": 6,
   "metadata": {},
   "outputs": [
    {
     "data": {
      "image/png": "[encoded data removed]",
      "text/plain": [
       "<Figure size 432x288 with 1 Axes>"
      ]
     },
     "metadata": {
      "needs_background": "light"
     },
     "output_type": "display_data"
    }
   ],
   "source": [
    "import numpy as np\n",
    "from scipy.interpolate import make_interp_spline\n",
    "import matplotlib.pyplot as plt\n",
    " \n",
    "# Dataset\n",
    "x = np.array([0, 10, 20, 30, 40, 50, 60, 70, 80, 90, 100])\n",
    "y = np.array([0, 35, 50, 65, 75, 82, 90, 95, 98, 99, 100])\n",
    " \n",
    "X_Y_Spline = make_interp_spline(x, y)\n",
    " \n",
    "# Returns evenly spaced numbers\n",
    "# over a specified interval.\n",
    "X_ = np.linspace(x.min(), x.max(), 500)\n",
    "Y_ = X_Y_Spline(X_)\n",
    "\n",
    "plt.plot(X_,Y_)\n",
    "\n",
    "plt.xlabel('% Duty Cycle')\n",
    "plt.ylabel('% LED Brightness')\n",
    "plt.title('%Perceived  LED Brightness v. % Duty Cycle')\n",
    "\n",
    "plt.xticks(np.arange(0,110,10))\n",
    "plt.yticks(np.arange(0,110,10))\n",
    "\n",
    "plt.show()"
   ]
  },
  {
   "cell_type": "markdown",
   "metadata": {},
   "source": [
    "# Concurrency, Buttons, and PWM"
   ]
  },
  {
   "cell_type": "code",
   "execution_count": 140,
   "metadata": {},
   "outputs": [],
   "source": [
    "btns = base.btns_gpio\n",
    "\n",
    "import asyncio\n",
    "\n",
    "cond = True\n",
    "flash = 4 #RED\n",
    "\n",
    "async def flash_leds():\n",
    "    global cond, flash\n",
    "    while cond:\n",
    "        if flash > 0:\n",
    "            emulatePwm(40, 25, flash)\n",
    "            await asyncio.sleep(1)\n",
    "            reset_all_gpios()\n",
    "            await asyncio.sleep(1)\n",
    "        else:\n",
    "            reset_all_gpios()\n",
    "            cond = False\n",
    "            await asyncio.sleep(0.05)\n",
    "            \n",
    "async def get_btns(_loop):\n",
    "    global cond, start, flash\n",
    "    while cond:\n",
    "        await asyncio.sleep(0.01)\n",
    "        if btns.read() == 1:\n",
    "            flash = 4\n",
    "        if btns.read() == 2:\n",
    "            flash = 2\n",
    "        if btns.read() == 4:\n",
    "            flash = 1\n",
    "        if btns.read() == 8:\n",
    "            flash = 0\n",
    "            _loop.stop()\n",
    "            \n",
    "\n",
    "#write_gpio(3,0)\n",
    "reset_all_gpios()\n",
    "loop = asyncio.new_event_loop()\n",
    "loop.create_task(flash_leds())\n",
    "loop.create_task(get_btns(loop))\n",
    "loop.run_forever()\n",
    "loop.close()        "
   ]
  },
  {
   "cell_type": "code",
   "execution_count": null,
   "metadata": {},
   "outputs": [],
   "source": []
  }
 ],
 "metadata": {
  "kernelspec": {
   "display_name": "Python 3 (ipykernel)",
   "language": "python",
   "name": "python3"
  },
  "language_info": {
   "codemirror_mode": {
    "name": "ipython",
    "version": 3
   },
   "file_extension": ".py",
   "mimetype": "text/x-python",
   "name": "python",
   "nbconvert_exporter": "python",
   "pygments_lexer": "ipython3",
   "version": "3.10.4"
  }
 },
 "nbformat": 4,
 "nbformat_minor": 2
}
